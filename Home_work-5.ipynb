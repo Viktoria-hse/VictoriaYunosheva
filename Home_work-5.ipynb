{
 "cells": [
  {
   "cell_type": "markdown",
   "metadata": {},
   "source": [
    "Домашняя работа\n",
    "Для задач Easy и Normal использовать данные Титаника\n",
    "\n",
    "Easy\n",
    "Оценить с помощью доверительных интервалов:\n",
    "\n",
    "выживаемость всех пассажиров (оценить среднее по isSurvived)\n",
    "выживаемость женщин\n",
    "выживаемость людей с каютами первого класса\n",
    "Ответить на вопросы:\n",
    "\n",
    "какой вариант оценки доверительных интервалов нужно использовать в данной задаче и почему?\n",
    "какая из ошибок более критична для данной задачи - I или II рода?\n",
    "Normal\n",
    "Проверить гипотезу о том, что женщины выживают чаще мужчин с уровнем значимости 0.05\n",
    "Проверить гипотезу о том, что дети выживают чаще, чем взрослые\n",
    "Hard\n",
    "Одной из важнейших тем в статистике является множественная проверка гипотез.\n",
    "\n",
    "Если нужно много раз проверять гипотезы, то вероятность совершить ошибку первого рода будет расти с каждой новой гипотезой.\n",
    "\n",
    "Прочитать подробнее можно здесь\n",
    "\n",
    "Задача:\n",
    "\n",
    "Мы отобрали 1000 человек, которые заявляют, что они экстрасенсы. Мы хотим проверить это. Для этого проводится следующий эксперимент. Перед каждым участником выкладывают 10 карт рубашкой вверх и просят угадать цвет карты (красный или черный). На уровне значимости 0.01 мы хотим быть уверены, является ли человек экстрасенсом.\n",
    "\n",
    "Нужно смоделировать ситуацию двумя способами (предполагаем, что экстрасенсов не существует и решения участников представляют из себя биномиальное распределение):\n",
    "\n",
    "без множественной проверки гипотез, выявить количество экстрасенсов\n",
    "с множественной проверкой гипотез, используя поправку Бонферрони (правило FWER)\n",
    "Сколько экстрасенсов получилось поймать в каждом из случаев?"
   ]
  },
  {
   "cell_type": "markdown",
   "metadata": {},
   "source": [
    "Easy\n",
    "Оценить с помощью доверительных интервалов:\n",
    "\n",
    "выживаемость всех пассажиров (оценить среднее по isSurvived)\n",
    "выживаемость женщин\n",
    "выживаемость людей с каютами первого класса\n",
    "Ответить на вопросы:\n",
    "\n",
    "какой вариант оценки доверительных интервалов нужно использовать в данной задаче и почему?\n",
    "какая из ошибок более критична для данной задачи - I или II рода?"
   ]
  },
  {
   "cell_type": "code",
   "execution_count": 28,
   "metadata": {},
   "outputs": [
    {
     "data": {
      "text/html": [
       "<div>\n",
       "<style scoped>\n",
       "    .dataframe tbody tr th:only-of-type {\n",
       "        vertical-align: middle;\n",
       "    }\n",
       "\n",
       "    .dataframe tbody tr th {\n",
       "        vertical-align: top;\n",
       "    }\n",
       "\n",
       "    .dataframe thead th {\n",
       "        text-align: right;\n",
       "    }\n",
       "</style>\n",
       "<table border=\"1\" class=\"dataframe\">\n",
       "  <thead>\n",
       "    <tr style=\"text-align: right;\">\n",
       "      <th></th>\n",
       "      <th>PassengerId</th>\n",
       "      <th>Survived</th>\n",
       "      <th>Pclass</th>\n",
       "      <th>Name</th>\n",
       "      <th>Sex</th>\n",
       "      <th>Age</th>\n",
       "      <th>SibSp</th>\n",
       "      <th>Parch</th>\n",
       "      <th>Ticket</th>\n",
       "      <th>Fare</th>\n",
       "      <th>Cabin</th>\n",
       "      <th>Embarked</th>\n",
       "    </tr>\n",
       "  </thead>\n",
       "  <tbody>\n",
       "    <tr>\n",
       "      <td>0</td>\n",
       "      <td>1</td>\n",
       "      <td>0</td>\n",
       "      <td>3</td>\n",
       "      <td>Braund, Mr. Owen Harris</td>\n",
       "      <td>male</td>\n",
       "      <td>22.0</td>\n",
       "      <td>1</td>\n",
       "      <td>0</td>\n",
       "      <td>A/5 21171</td>\n",
       "      <td>7.2500</td>\n",
       "      <td>NaN</td>\n",
       "      <td>S</td>\n",
       "    </tr>\n",
       "    <tr>\n",
       "      <td>1</td>\n",
       "      <td>2</td>\n",
       "      <td>1</td>\n",
       "      <td>1</td>\n",
       "      <td>Cumings, Mrs. John Bradley (Florence Briggs Th...</td>\n",
       "      <td>female</td>\n",
       "      <td>38.0</td>\n",
       "      <td>1</td>\n",
       "      <td>0</td>\n",
       "      <td>PC 17599</td>\n",
       "      <td>71.2833</td>\n",
       "      <td>C85</td>\n",
       "      <td>C</td>\n",
       "    </tr>\n",
       "    <tr>\n",
       "      <td>2</td>\n",
       "      <td>3</td>\n",
       "      <td>1</td>\n",
       "      <td>3</td>\n",
       "      <td>Heikkinen, Miss. Laina</td>\n",
       "      <td>female</td>\n",
       "      <td>26.0</td>\n",
       "      <td>0</td>\n",
       "      <td>0</td>\n",
       "      <td>STON/O2. 3101282</td>\n",
       "      <td>7.9250</td>\n",
       "      <td>NaN</td>\n",
       "      <td>S</td>\n",
       "    </tr>\n",
       "    <tr>\n",
       "      <td>3</td>\n",
       "      <td>4</td>\n",
       "      <td>1</td>\n",
       "      <td>1</td>\n",
       "      <td>Futrelle, Mrs. Jacques Heath (Lily May Peel)</td>\n",
       "      <td>female</td>\n",
       "      <td>35.0</td>\n",
       "      <td>1</td>\n",
       "      <td>0</td>\n",
       "      <td>113803</td>\n",
       "      <td>53.1000</td>\n",
       "      <td>C123</td>\n",
       "      <td>S</td>\n",
       "    </tr>\n",
       "    <tr>\n",
       "      <td>4</td>\n",
       "      <td>5</td>\n",
       "      <td>0</td>\n",
       "      <td>3</td>\n",
       "      <td>Allen, Mr. William Henry</td>\n",
       "      <td>male</td>\n",
       "      <td>35.0</td>\n",
       "      <td>0</td>\n",
       "      <td>0</td>\n",
       "      <td>373450</td>\n",
       "      <td>8.0500</td>\n",
       "      <td>NaN</td>\n",
       "      <td>S</td>\n",
       "    </tr>\n",
       "  </tbody>\n",
       "</table>\n",
       "</div>"
      ],
      "text/plain": [
       "   PassengerId  Survived  Pclass  \\\n",
       "0            1         0       3   \n",
       "1            2         1       1   \n",
       "2            3         1       3   \n",
       "3            4         1       1   \n",
       "4            5         0       3   \n",
       "\n",
       "                                                Name     Sex   Age  SibSp  \\\n",
       "0                            Braund, Mr. Owen Harris    male  22.0      1   \n",
       "1  Cumings, Mrs. John Bradley (Florence Briggs Th...  female  38.0      1   \n",
       "2                             Heikkinen, Miss. Laina  female  26.0      0   \n",
       "3       Futrelle, Mrs. Jacques Heath (Lily May Peel)  female  35.0      1   \n",
       "4                           Allen, Mr. William Henry    male  35.0      0   \n",
       "\n",
       "   Parch            Ticket     Fare Cabin Embarked  \n",
       "0      0         A/5 21171   7.2500   NaN        S  \n",
       "1      0          PC 17599  71.2833   C85        C  \n",
       "2      0  STON/O2. 3101282   7.9250   NaN        S  \n",
       "3      0            113803  53.1000  C123        S  \n",
       "4      0            373450   8.0500   NaN        S  "
      ]
     },
     "execution_count": 28,
     "metadata": {},
     "output_type": "execute_result"
    }
   ],
   "source": [
    "import pandas as pd\n",
    "import numpy as np\n",
    "import scipy\n",
    "import matplotlib.pyplot as plt\n",
    "from scipy.stats import t\n",
    "titanic=pd.read_csv(\"train.csv\")\n",
    "titanic.head()\n"
   ]
  },
  {
   "cell_type": "code",
   "execution_count": 29,
   "metadata": {},
   "outputs": [],
   "source": [
    "mean=np.mean(titanic[\"Survived\"])\n",
    "std=titanic[\"Survived\"].std()\n",
    "n=len(titanic)\n",
    "alpha=0.05"
   ]
  },
  {
   "cell_type": "markdown",
   "metadata": {},
   "source": [
    "Выживаемость всех пассажиров"
   ]
  },
  {
   "cell_type": "code",
   "execution_count": 42,
   "metadata": {},
   "outputs": [
    {
     "name": "stdout",
     "output_type": "stream",
     "text": [
      "На уровне щначимости в 5% вероятность выжить пассажиру титаника лежит в промежутке : (0.5650806238220164, 0.6941786354372429)\n"
     ]
    }
   ],
   "source": [
    "def get_confidence_interval(mean, std, n, alpha):\n",
    "    h = scipy.stats.norm.ppf(1 - alpha / 2) * std / np.sqrt(n)\n",
    "    return mean - h, mean + h\n",
    "\n",
    "confidence_interval = get_confidence_interval(mean, std, n, alpha)\n",
    "\n",
    "print(\"На уровне значимости в 5% вероятность выжить пассажиру титаника лежит в промежутке :\",confidence_interval)"
   ]
  },
  {
   "cell_type": "code",
   "execution_count": 32,
   "metadata": {},
   "outputs": [
    {
     "data": {
      "text/plain": [
       "(-0.5711640365064437, 1.3388408041832114)"
      ]
     },
     "execution_count": 32,
     "metadata": {},
     "output_type": "execute_result"
    }
   ],
   "source": [
    "t.interval(1 - alpha, n - 1, loc=mean, scale=std)"
   ]
  },
  {
   "cell_type": "markdown",
   "metadata": {},
   "source": [
    "Выживаемость женщин"
   ]
  },
  {
   "cell_type": "code",
   "execution_count": 33,
   "metadata": {},
   "outputs": [],
   "source": [
    "titanic.head()\n",
    "females = titanic[(titanic['Sex']=='female')] \n",
    "mean=np.mean(females[\"Survived\"])\n",
    "std=females[\"Survived\"].std()\n",
    "n=len(females)\n",
    "alpha=0.05\n"
   ]
  },
  {
   "cell_type": "code",
   "execution_count": 34,
   "metadata": {},
   "outputs": [
    {
     "data": {
      "text/plain": [
       "(0.693568916951577, 0.790507516169442)"
      ]
     },
     "execution_count": 34,
     "metadata": {},
     "output_type": "execute_result"
    }
   ],
   "source": [
    "def get_confidence_interval(mean, std, n, alpha):\n",
    "    h = scipy.stats.norm.ppf(1 - alpha / 2) * std / np.sqrt(n)\n",
    "    return mean - h, mean + h\n",
    "\n",
    "confidence_interval = get_confidence_interval(mean, std, n, alpha)\n",
    "\n",
    "print(\"На уровне значимости в 5% вероятность выжить пассажиру титаника лежит в промежутке :\",confidence_interval)"
   ]
  },
  {
   "cell_type": "code",
   "execution_count": 35,
   "metadata": {},
   "outputs": [
    {
     "data": {
      "text/plain": [
       "(-0.12017388689013297, 1.604250320011152)"
      ]
     },
     "execution_count": 35,
     "metadata": {},
     "output_type": "execute_result"
    }
   ],
   "source": [
    "t.interval(1 - alpha, n - 1, loc=mean, scale=std)"
   ]
  },
  {
   "cell_type": "markdown",
   "metadata": {},
   "source": [
    "Выживаемость людей с каютами первого класса"
   ]
  },
  {
   "cell_type": "code",
   "execution_count": 36,
   "metadata": {},
   "outputs": [],
   "source": [
    "Class = titanic[(titanic['Pclass']==1)]"
   ]
  },
  {
   "cell_type": "code",
   "execution_count": 37,
   "metadata": {},
   "outputs": [],
   "source": [
    "mean=np.mean(Class[\"Survived\"])\n",
    "std=Class[\"Survived\"].std()\n",
    "n=len(Class)\n",
    "alpha=0.05"
   ]
  },
  {
   "cell_type": "code",
   "execution_count": 38,
   "metadata": {},
   "outputs": [
    {
     "data": {
      "text/plain": [
       "(0.5650806238220164, 0.6941786354372429)"
      ]
     },
     "execution_count": 38,
     "metadata": {},
     "output_type": "execute_result"
    }
   ],
   "source": [
    "def get_confidence_interval(mean, std, n, alpha):\n",
    "    h = scipy.stats.norm.ppf(1 - alpha / 2) * std / np.sqrt(n)\n",
    "    return mean - h, mean + h\n",
    "\n",
    "confidence_interval = get_confidence_interval(mean, std, n, alpha)\n",
    "\n",
    "print(\"На уровне значимости в 5% вероятность выжить пассажиру титаника лежит в промежутке :\",confidence_interval)"
   ]
  },
  {
   "cell_type": "code",
   "execution_count": 39,
   "metadata": {},
   "outputs": [
    {
     "data": {
      "text/plain": [
       "(-0.3244134669216916, 1.583672726180951)"
      ]
     },
     "execution_count": 39,
     "metadata": {},
     "output_type": "execute_result"
    }
   ],
   "source": [
    "t.interval(1 - alpha, n - 1, loc=mean, scale=std)"
   ]
  },
  {
   "cell_type": "markdown",
   "metadata": {},
   "source": [
    "Какой вариант оценки доверительных интервалов нужно использовать в данной задаче и почему?\n",
    "На мой взгляд, вариант оценки доверительных интервалов с дисперсией подходит нам лучше, чем вариант вычисления интервалов без нее, так как такой интервал (с дисперсией) дает более точную оценку за счет сужения интервала.\n",
    "Какая из ошибок более критична для данной задачи - I или II рода?\n",
    "\n",
    "С точки зрения пассажира титаника ошибка False-Positive (сказать человеку , что он выживет , а на самом деле он погибнет)- то есть не просто обмануть , но и фактически лишить его права обладать информацией о своем непривилегированном положении более жестоко, чем сказать, что он не выживет, но в итоге спасти.(True-Negative)."
   ]
  },
  {
   "cell_type": "markdown",
   "metadata": {},
   "source": [
    "Normal\n",
    "Проверить гипотезу о том, что женщины выживают чаще мужчин с уровнем значимости 0.05\n",
    "Проверить гипотезу о том, что дети выживают чаще, чем взрослые"
   ]
  },
  {
   "cell_type": "markdown",
   "metadata": {},
   "source": [
    "Проверить гипотезу о том, что женщины выживают чаще мужчин с уровнем значимости 0.05\n",
    "\n",
    "H0 \n",
    "{women-survived=man-survived}\n",
    "\n",
    "H1\n",
    "{women-survived > man-survived}\n",
    "\n",
    "With lambda=0.05"
   ]
  },
  {
   "cell_type": "code",
   "execution_count": 52,
   "metadata": {},
   "outputs": [],
   "source": [
    "x=titanic[(titanic['Sex']=='female')]\n",
    "x=x['Survived'].tolist()\n",
    "y=titanic[(titanic['Sex']=='male')]\n",
    "y=y['Survived'].tolist()"
   ]
  },
  {
   "cell_type": "code",
   "execution_count": 53,
   "metadata": {},
   "outputs": [
    {
     "data": {
      "text/plain": [
       "1.1418004613005268e-61"
      ]
     },
     "execution_count": 53,
     "metadata": {},
     "output_type": "execute_result"
    }
   ],
   "source": [
    "from scipy.stats import ttest_ind \n",
    "def t_test(x,y,alternative='both-sided'):\n",
    "            _, double_p = ttest_ind(x,y,equal_var = False)\n",
    "            if alternative == 'both-sided':\n",
    "                pval = double_p\n",
    "            elif alternative == 'greater':\n",
    "                if np.mean(x) > np.mean(y):\n",
    "                    pval = double_p/2.\n",
    "                else:\n",
    "                    pval = 1.0 - double_p/2.\n",
    "            elif alternative == 'less':\n",
    "                if np.mean(x) < np.mean(y):\n",
    "                    pval = double_p/2.\n",
    "                else:\n",
    "                    pval = 1.0 - double_p/2.\n",
    "            return pval\n",
    "t_test(x,y, alternative=\"greater\")"
   ]
  },
  {
   "cell_type": "markdown",
   "metadata": {},
   "source": [
    "P_value=1.1418004613005268e-61 , а это значит , что на уровне значимости в 5% мы отвергаем H0."
   ]
  },
  {
   "cell_type": "markdown",
   "metadata": {},
   "source": [
    "Проверить гипотезу о том, что дети выживают чаще, чем взрослые:\n",
    "    \n",
    "H0 {ADULT=CHILD}\n",
    "\n",
    "H1 {CHILD > ADULT}\n",
    "\n",
    "With lambda=0.05"
   ]
  },
  {
   "cell_type": "code",
   "execution_count": 58,
   "metadata": {},
   "outputs": [
    {
     "data": {
      "text/plain": [
       "0.00024973353136373527"
      ]
     },
     "execution_count": 58,
     "metadata": {},
     "output_type": "execute_result"
    }
   ],
   "source": [
    "titanic[\"Age1\"] = titanic[\"Age\"].apply(lambda x: \"child\" if x <18 else \"adult\")\n",
    "x=titanic[(titanic[\"Age1\"]==\"child\")]\n",
    "x=x['Survived'].tolist()\n",
    "y=titanic[(titanic[\"Age1\"]==\"adult\")]\n",
    "y=y['Survived'].tolist()\n",
    "t_test(x,y, alternative=\"greater\")"
   ]
  },
  {
   "cell_type": "markdown",
   "metadata": {},
   "source": [
    "P_value=0.0002 , а это значит , что на уровне значимости в 5% мы отвергаем H0."
   ]
  }
 ],
 "metadata": {
  "kernelspec": {
   "display_name": "Python 3",
   "language": "python",
   "name": "python3"
  },
  "language_info": {
   "codemirror_mode": {
    "name": "ipython",
    "version": 3
   },
   "file_extension": ".py",
   "mimetype": "text/x-python",
   "name": "python",
   "nbconvert_exporter": "python",
   "pygments_lexer": "ipython3",
   "version": "3.7.4"
  }
 },
 "nbformat": 4,
 "nbformat_minor": 4
}
